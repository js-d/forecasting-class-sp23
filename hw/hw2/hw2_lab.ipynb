{
  "cells": [
    {
      "cell_type": "markdown",
      "id": "fffda47f",
      "metadata": {
        "id": "fffda47f"
      },
      "source": [
        "# Stat 165/265 Homework 2 Lab: Proper and Improper Scoring Rules\n",
        "\n",
        "Scoring rules, or score functions, measure how good a probabilistic forecast is. As we saw in lecture, generally we want to use strictly proper scoring rules to compare forecasts, in order to extract people's true beliefs. This notebook will touch on a couple different scoring rules, both proper and improper, to explore how they differ and how improper rules can be \"gamed.\""
      ]
    },
    {
      "cell_type": "markdown",
      "id": "e8fe1560",
      "metadata": {
        "id": "e8fe1560"
      },
      "source": [
        "## Gradescope Submission\n",
        "To submit this assignment, rerun the notebook from scratch (by selecting Kernel > Restart & Run all), and then print as a pdf (File > download as > pdf) and submit it to Gradescope.\n",
        "\n",
        "\n",
        "**This assignment should be completed and submitted before Tuesday, January 30th, 2024 at 11:59 PM**"
      ]
    },
    {
      "cell_type": "markdown",
      "id": "e95daefb",
      "metadata": {
        "id": "e95daefb"
      },
      "source": [
        "# I. Naive Linear Score\n",
        "\n",
        "Imagine we have a biased coin that has a 60% chance of Heads and 40% chance of Tails and we ask forecasters to give a probability distribution for the outcome of the coin flip, i.e. a vector $q = (q_H, q_T)$ where $q_H + q_T = 1$. As mentioned in lecture, here's a simple linear score $f$ we could define:\n",
        "\n",
        "$$f(q, i) = q_i$$\n",
        "\n",
        "or in other words, you get $q_H$ points if the coin lands Heads and $q_T$ points if the coin lands Tails. To get a feel for this score, we've implemented an interactive widget below that outputs your average score over many coin flips, when you input a forecast for the probability of heads. Try it out for a few different forecasts and numbers of flips."
      ]
    },
    {
      "cell_type": "code",
      "execution_count": null,
      "id": "9f73d2ed",
      "metadata": {
        "id": "9f73d2ed"
      },
      "outputs": [],
      "source": [
        "import numpy as np\n",
        "import matplotlib.pyplot as plt\n",
        "from ipywidgets import interact_manual\n",
        "import ipywidgets as widgets"
      ]
    },
    {
      "cell_type": "code",
      "execution_count": null,
      "id": "904a912a",
      "metadata": {
        "id": "904a912a"
      },
      "outputs": [],
      "source": [
        "def submit_forecast(heads_forecast, num_flips):\n",
        "    flips = np.random.rand(num_flips)\n",
        "    heads = (flips < 0.6).sum()\n",
        "    tails = num_flips - heads\n",
        "    avg_score = (heads_forecast * heads + (1 - heads_forecast) * tails)/num_flips\n",
        "    return (f\"Score over {num_flips} coin flips: \", avg_score)"
      ]
    },
    {
      "cell_type": "code",
      "execution_count": null,
      "id": "bd3703c6",
      "metadata": {
        "id": "bd3703c6"
      },
      "outputs": [],
      "source": [
        "game = interact_manual(submit_forecast,\n",
        "                       heads_forecast=widgets.FloatSlider(min=0, max=1, step=.01, value=.5),\n",
        "                       num_flips=widgets.IntSlider(value=50))\n",
        "game;"
      ]
    },
    {
      "cell_type": "markdown",
      "id": "c987947e",
      "metadata": {
        "id": "c987947e"
      },
      "source": [
        "Over many coin flips, we can compute the expected score for any given vector $q$, which we've implemented below."
      ]
    },
    {
      "cell_type": "code",
      "execution_count": null,
      "id": "f6adef31",
      "metadata": {
        "id": "f6adef31"
      },
      "outputs": [],
      "source": [
        "# Here we define a helper function to make sure that we're only working with valid probability distributions\n",
        "def check_distributions(q, true_dist):\n",
        "    assert(np.sum(q) == 1 and np.sum(true_dist) == 1), \"Probabilities must sum to 1.\"\n",
        "    assert(len(q) == len(true_dist))"
      ]
    },
    {
      "cell_type": "code",
      "execution_count": null,
      "id": "78b90a08",
      "metadata": {
        "id": "78b90a08"
      },
      "outputs": [],
      "source": [
        "def expected_linear_score(q, true_dist):\n",
        "    check_distributions(q, true_dist)\n",
        "\n",
        "    return np.dot(q, true_dist)"
      ]
    },
    {
      "cell_type": "markdown",
      "id": "64b5b384",
      "metadata": {
        "id": "64b5b384"
      },
      "source": [
        "If you know that the coin is biased 60-40, and you want to get the highest score according to this linear score, what forecast should you give as your $q$? You could report $q = (0.6, 0.4)$ and we see that this gives an expected score of 0.52. Can you find a $q$ that does better than this?"
      ]
    },
    {
      "cell_type": "code",
      "execution_count": null,
      "id": "4ee81333",
      "metadata": {
        "id": "4ee81333"
      },
      "outputs": [],
      "source": [
        "biased_coin = (0.6, 0.4)\n",
        "\n",
        "q = (0.6, 0.4)\n",
        "expected_linear_score(q, biased_coin)"
      ]
    },
    {
      "cell_type": "markdown",
      "id": "a99972f1",
      "metadata": {
        "id": "a99972f1"
      },
      "source": [
        "### Q1. What's the optimal $q$ for this naive linear score and what score does it get?"
      ]
    },
    {
      "cell_type": "markdown",
      "id": "eefb4271",
      "metadata": {
        "id": "eefb4271"
      },
      "source": [
        "Your answer here."
      ]
    },
    {
      "cell_type": "markdown",
      "id": "abd51234",
      "metadata": {
        "id": "abd51234"
      },
      "source": [
        "### Q2. Plot the naive linear score for all possible forecasts $q$. Is the naive linear score a proper scoring rule? Explain why or why not."
      ]
    },
    {
      "cell_type": "markdown",
      "id": "ebe05e82",
      "metadata": {
        "id": "ebe05e82"
      },
      "source": [
        "Your answer here."
      ]
    },
    {
      "cell_type": "markdown",
      "id": "ab9cc20c",
      "metadata": {
        "id": "ab9cc20c"
      },
      "source": [
        "# II. Logarithmic Score\n",
        "\n",
        "As we saw in lecture, Good's logarithmic scoring rule is defined as:\n",
        "\n",
        "$$f(q, i) = \\log(q_i)$$\n",
        "\n",
        "We've implemented a function to calculate the expected logarithmic score of a coin flip forecast below. Again, a higher score is better."
      ]
    },
    {
      "cell_type": "code",
      "execution_count": null,
      "id": "c06e1443",
      "metadata": {
        "id": "c06e1443"
      },
      "outputs": [],
      "source": [
        "def expected_log_score(q, true_dist):\n",
        "    check_distributions(q, true_dist)\n",
        "    assert(min(q) > 0 and min(true_dist) > 0), \"Choose nonzero probabilities\" # avoid undefined scores\n",
        "\n",
        "    return np.dot(np.log(q), true_dist)"
      ]
    },
    {
      "cell_type": "markdown",
      "id": "d2e328e3",
      "metadata": {
        "id": "d2e328e3"
      },
      "source": [
        "We'll continue using the biased coin that lands Heads 60% of the time."
      ]
    },
    {
      "cell_type": "code",
      "execution_count": null,
      "id": "4e213a51",
      "metadata": {
        "id": "4e213a51"
      },
      "outputs": [],
      "source": [
        "q = (0.6, 0.4)\n",
        "expected_log_score(q, biased_coin)"
      ]
    },
    {
      "cell_type": "markdown",
      "id": "8a6b4e93",
      "metadata": {
        "id": "8a6b4e93"
      },
      "source": [
        "### Q3. What's the logarithmic score for $q = (0.2, 0.8)$? For $q = (0.5, 0.5)$? For $q = (0.999, 0.001)$?"
      ]
    },
    {
      "cell_type": "markdown",
      "id": "6c72c36b",
      "metadata": {
        "id": "6c72c36b"
      },
      "source": [
        "Your answer here."
      ]
    },
    {
      "cell_type": "markdown",
      "id": "e1d43593",
      "metadata": {
        "id": "e1d43593"
      },
      "source": [
        "### Q4. Plot the logarithmic score for all possible forecasts $q$."
      ]
    },
    {
      "cell_type": "markdown",
      "id": "e71681dd",
      "metadata": {
        "id": "e71681dd"
      },
      "source": [
        "Your answer here."
      ]
    },
    {
      "cell_type": "markdown",
      "id": "fe861b85",
      "metadata": {
        "id": "fe861b85"
      },
      "source": [
        "### Q5. What's the optimal $q$ for the logarithmic score, when forecasting the biased coin? Is the logarithmic score a proper scoring rule?"
      ]
    },
    {
      "cell_type": "markdown",
      "id": "e37a3b56",
      "metadata": {
        "id": "e37a3b56"
      },
      "source": [
        "Your answer here."
      ]
    },
    {
      "cell_type": "markdown",
      "id": "8255ad23",
      "metadata": {
        "id": "8255ad23"
      },
      "source": [
        "# III. Brier's Quadratic Score\n",
        "\n",
        "Also seen in lecture, Brier's quadratic scoring rule is defined as:\n",
        "\n",
        "$$f(q, i) = -\\sum_{j=1}^n (q_j - o_{ij})^2 $$\n",
        "\n",
        "where $o_{ij} = 1$ if $i = j$ and 0 otherwise. This expression can be equivalently written as:\n",
        "\n",
        "$$f(q, i) = 2q_i - 1 - \\sum_{j=1}^n q_j^2$$"
      ]
    },
    {
      "cell_type": "markdown",
      "id": "57405e61",
      "metadata": {
        "id": "57405e61"
      },
      "source": [
        "### Q6. Implement the function `expected_quad_score` below to calculate the expected quadratic score given a forecast and a true distribution."
      ]
    },
    {
      "cell_type": "code",
      "execution_count": null,
      "id": "cdbee22e",
      "metadata": {
        "id": "cdbee22e"
      },
      "outputs": [],
      "source": [
        "def expected_quad_score(q, true_dist):\n",
        "    check_distributions(q, true_dist)\n",
        "\n",
        "    score = # Your code here\n",
        "\n",
        "    return score"
      ]
    },
    {
      "cell_type": "markdown",
      "id": "bc588d87",
      "metadata": {
        "id": "bc588d87"
      },
      "source": [
        "### Q7. Plot the quadratic score for all possible forecasts for the biased coin."
      ]
    },
    {
      "cell_type": "markdown",
      "id": "ebf885c8",
      "metadata": {
        "id": "ebf885c8"
      },
      "source": [
        "Your answer here."
      ]
    },
    {
      "cell_type": "markdown",
      "id": "d988f268",
      "metadata": {
        "id": "d988f268"
      },
      "source": [
        "# IV. Logarithmic vs. Quadratic Scoring Rules"
      ]
    },
    {
      "cell_type": "markdown",
      "id": "ed5742dc",
      "metadata": {
        "id": "ed5742dc"
      },
      "source": [
        "### Q8. Rare events.\n",
        "Imagine you and your friend Alice are competing to see who is the better forecaster. You know that you are generally better than Alice at being precise about the probabilities of rare events -- for example, once something is rarer than a 1 in 100 chance, Alice treats that as having a 1 in 100 probability, while you are good at differentiating between things that are 1 in 100 and those that are 1 in a 10 thousand. **If you want a forecasting competition to show your advantage on this, would you rather have the scoring rule be logarithmic or quadratic? Why?**\n"
      ]
    },
    {
      "cell_type": "markdown",
      "id": "781d6c1b",
      "metadata": {
        "id": "781d6c1b"
      },
      "source": [
        "Your answer here."
      ]
    },
    {
      "cell_type": "markdown",
      "id": "2ddada8a",
      "metadata": {
        "id": "2ddada8a"
      },
      "source": [
        "### Q9. Precision in the middle\n",
        "\n",
        "Now imagine you are competing against your friend Bob. He's quite good at estimating rare event probabilities. However, you notice that when an two things both have substantial probabililty of happening, he tends to just forecast 50%, while you are good at evaluating considerations that push you to make more precise forecasts, such as 42-58. **Would you rather compete with Bob on a log score or quadratic score? Why?**"
      ]
    },
    {
      "cell_type": "markdown",
      "id": "43d1dab0",
      "metadata": {
        "id": "43d1dab0"
      },
      "source": [
        "Your answer here."
      ]
    },
    {
      "cell_type": "markdown",
      "id": "77d61a61",
      "metadata": {
        "id": "77d61a61"
      },
      "source": [
        "### Q10. More than two options\n",
        "\n",
        "Imagine you are forecasting which of the Final Four teams (Teams A, B, C, and D) in a tournament will be the champion. You believe the teams chances are, in order: 5%, 10%, 60%, 25%. You submit this forecast, and Team C wins, so you are pretty happy you put a high probability on that outcome! Then you learn that someone else who also put a 60% chance on Team C got a higher quadratic score than you. **How is this possible? Give an example of a forecast that would beat your quadratic score.**"
      ]
    },
    {
      "cell_type": "markdown",
      "id": "ebf31eb3",
      "metadata": {
        "id": "ebf31eb3"
      },
      "source": [
        "Your answer here."
      ]
    },
    {
      "cell_type": "markdown",
      "id": "9ce9e1d0",
      "metadata": {},
      "source": [
        "### Submission\n",
        "\n",
        "Follow the instructions at the top, which detail how to submit this notebook to Gradescope."
      ]
    }
  ],
  "metadata": {
    "colab": {
      "provenance": []
    },
    "kernelspec": {
      "display_name": "base",
      "language": "python",
      "name": "python3"
    },
    "language_info": {
      "codemirror_mode": {
        "name": "ipython",
        "version": 3
      },
      "file_extension": ".py",
      "mimetype": "text/x-python",
      "name": "python",
      "nbconvert_exporter": "python",
      "pygments_lexer": "ipython3",
      "version": "3.10.9"
    }
  },
  "nbformat": 4,
  "nbformat_minor": 5
}
