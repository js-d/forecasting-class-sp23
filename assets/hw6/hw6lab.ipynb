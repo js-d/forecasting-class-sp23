{
 "cells": [
  {
   "cell_type": "markdown",
   "metadata": {},
   "source": [
    "# Homework 6 Lab: Common Probability Distributions\n",
    "\n",
    "To submit this assignment, rerun the notebook from scratch (by selecting Kernel > Restart & Run all), and then print as a pdf (File > download as > pdf) and submit it to Gradescope. You are also welcome to use R or another language if you are more comfortable with data analysis in that language.\n",
    "\n",
    "**This assignment should be completed and submitted before Monday, February 28, 2022 at 11:59 PM PT.**"
   ]
  },
  {
   "cell_type": "code",
   "execution_count": 2,
   "metadata": {},
   "outputs": [],
   "source": [
    "import pandas as pd\n",
    "df = pd.read_csv(\"surnames_1990.csv\")"
   ]
  },
  {
   "cell_type": "markdown",
   "metadata": {},
   "source": [
    "`surnames_1990.csv` contains the frequency of the 5000 most common surnames in the US according to the 1990 Census. It is made of the first 5000 rows in [File B](https://www2.census.gov/topics/genealogy/2010surnames/names.zip) from [this website](https://www.census.gov/topics/population/genealogy/data/2010_surnames.html). \n",
    "\n",
    "Each row corresponds to a surname: the column `frequency` contains the percentage of responders with this surname, while the column `cumul_freq` contains the percentage of responders with this surname or a more common surname."
   ]
  },
  {
   "cell_type": "markdown",
   "metadata": {},
   "source": [
    "Q1. Plot the frequencies of the 200 most common surnames."
   ]
  },
  {
   "cell_type": "markdown",
   "metadata": {},
   "source": [
    "Q2. Plot the cumulative surname frequencies as a function of the surname frequencies on a log-log scale."
   ]
  },
  {
   "cell_type": "markdown",
   "metadata": {},
   "source": [
    "Q3. Based on the plots, what distribution do you think would be a good fit for the data? Explain your reasoning. "
   ]
  },
  {
   "cell_type": "markdown",
   "metadata": {},
   "source": [
    "Q4. Do you have a hypothesis as to why the data are distributed the way they are? Explain your reasoning in around 2-5 sentences."
   ]
  }
 ],
 "metadata": {
  "interpreter": {
   "hash": "278a48ba2fce80f60335a080d9b958508a22a9efbfefbf5f706d5d945e04a847"
  },
  "kernelspec": {
   "display_name": "Python 3.9.7 ('mlenv')",
   "language": "python",
   "name": "python3"
  },
  "language_info": {
   "codemirror_mode": {
    "name": "ipython",
    "version": 3
   },
   "file_extension": ".py",
   "mimetype": "text/x-python",
   "name": "python",
   "nbconvert_exporter": "python",
   "pygments_lexer": "ipython3",
   "version": "3.9.7"
  },
  "orig_nbformat": 4
 },
 "nbformat": 4,
 "nbformat_minor": 2
}
